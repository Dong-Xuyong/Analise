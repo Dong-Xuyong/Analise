{
  "cells": [
    {
      "cell_type": "markdown",
      "metadata": {
        "id": "UxoCjIKVGL2f"
      },
      "source": [
        "<table align=\"left\">\n",
        "\n",
        "  <h1> Options to run the notebook </h1>\n",
        " \n",
        "  <td>\n",
        "    <a href=\"https://colab.research.google.com/github/Dong-Xuyong/Analise/blob/main/Projeto/Wine.ipynb\" target=\"_parent\"><img src=\"https://colab.research.google.com/assets/colab-badge.svg\" alt=\"Open In Colab\"/></a>\n",
        "  </td>\n",
        "  <td>\n",
        "    <a target=\"_blank\" href=\"https://kaggle.com/kernels/welcome?src=https://github.com/Dong-Xuyong/Analise/blob/main/Projeto/Wine.ipynb\"><img src=\"https://kaggle.com/static/images/open-in-kaggle.svg\" /></a>\n",
        "  </td>\n",
        "</table>"
      ]
    },
    {
      "cell_type": "code",
      "execution_count": null,
      "metadata": {
        "id": "kUtJjpKMGG3Z"
      },
      "outputs": [],
      "source": []
    },
    {
      "cell_type": "markdown",
      "metadata": {
        "id": "adJcdmpJFTKR"
      },
      "source": [
        "# Set Up"
      ]
    },
    {
      "cell_type": "code",
      "execution_count": 1,
      "metadata": {
        "id": "x2pXG8t1FWFU"
      },
      "outputs": [],
      "source": [
        "import urllib.request\n",
        "import zipfile\n",
        "import pandas as pd\n",
        "import numpy as np\n",
        "\n",
        "from sklearn.model_selection import train_test_split\n",
        "from sklearn.pipeline import Pipeline\n",
        "from sklearn.preprocessing import StandardScaler\n",
        "from sklearn.preprocessing import OneHotEncoder\n",
        "from sklearn.impute import SimpleImputer\n",
        "from sklearn.compose import ColumnTransformer\n",
        "from sklearn.model_selection import cross_val_predict\n",
        "from sklearn.metrics import confusion_matrix\n",
        "from sklearn.model_selection import cross_val_score\n",
        "from sklearn.metrics import roc_curve\n",
        "from sklearn.metrics import precision_recall_curve\n",
        "from sklearn.metrics import f1_score\n",
        "from sklearn.metrics import precision_score, recall_score\n",
        "\n",
        "from sklearn.linear_model import SGDClassifier\n",
        "from sklearn.ensemble import RandomForestClassifier"
      ]
    },
    {
      "cell_type": "code",
      "execution_count": 2,
      "metadata": {
        "id": "QhNi3umcE6NR"
      },
      "outputs": [],
      "source": [
        "url = \"https://raw.githubusercontent.com/Dong-Xuyong/Analise/main/Projeto/Datasets/wine_ue.zip\"\n",
        "\n",
        "urllib.request.urlretrieve(url, \"df.zip\")\n",
        "\n",
        "with zipfile.ZipFile(\"df.zip\", 'r') as zip_ref:\n",
        "    zip_ref.extractall()"
      ]
    },
    {
      "cell_type": "code",
      "execution_count": 3,
      "metadata": {
        "id": "yFFd6fT1Fp4a"
      },
      "outputs": [],
      "source": [
        "df_wine = pd.read_csv(\"wine_ue.csv\")"
      ]
    },
    {
      "cell_type": "code",
      "execution_count": 4,
      "metadata": {
        "colab": {
          "base_uri": "https://localhost:8080/"
        },
        "id": "NrxR2Ud9F2bP",
        "outputId": "4c351063-dd4a-4744-b464-51a58c8a52a9"
      },
      "outputs": [
        {
          "name": "stdout",
          "output_type": "stream",
          "text": [
            "<class 'pandas.core.frame.DataFrame'>\n",
            "RangeIndex: 82278 entries, 0 to 82277\n",
            "Data columns (total 11 columns):\n",
            " #   Column       Non-Null Count  Dtype  \n",
            "---  ------       --------------  -----  \n",
            " 0   country      82278 non-null  object \n",
            " 1   description  82278 non-null  object \n",
            " 2   designation  82278 non-null  object \n",
            " 3   points       82278 non-null  int64  \n",
            " 4   price        82278 non-null  float64\n",
            " 5   province     82278 non-null  object \n",
            " 6   region_1     82278 non-null  object \n",
            " 7   taster_name  82278 non-null  object \n",
            " 8   title        82278 non-null  object \n",
            " 9   variety      82278 non-null  object \n",
            " 10  winery       82278 non-null  object \n",
            "dtypes: float64(1), int64(1), object(9)\n",
            "memory usage: 6.9+ MB\n"
          ]
        }
      ],
      "source": [
        "df_wine.info()"
      ]
    },
    {
      "cell_type": "code",
      "execution_count": null,
      "metadata": {
        "id": "WkxNNqAeF4ZJ"
      },
      "outputs": [],
      "source": []
    }
  ],
  "metadata": {
    "colab": {
      "provenance": []
    },
    "kernelspec": {
      "display_name": "Python 3",
      "name": "python3"
    },
    "language_info": {
      "name": "python"
    }
  },
  "nbformat": 4,
  "nbformat_minor": 0
}
